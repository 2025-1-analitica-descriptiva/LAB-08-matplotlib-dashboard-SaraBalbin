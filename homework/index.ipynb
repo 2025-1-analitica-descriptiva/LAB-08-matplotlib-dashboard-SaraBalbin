{
 "cells": [
  {
   "cell_type": "code",
   "execution_count": 7,
   "id": "7237a3c1",
   "metadata": {},
   "outputs": [
    {
     "name": "stdout",
     "output_type": "stream",
     "text": [
      "Writing index.html\n"
     ]
    }
   ],
   "source": [
    "%%writefile index.html\n",
    "\n",
    "<!DOCTYPE html>\n",
    "<html>\n",
    "    <body>\n",
    "        <h1>Shipping Dashboard Example</h1>\n",
    "        <div style=\"width: 45%; float: left;\">\n",
    "            <img src=\"shipping_per_warehouse.png\" alt=\"fig 1\">\n",
    "            <img src=\"mode_of_shipment.png\" alt=\"Fig 2\">\n",
    "        </div>\n",
    "        <div style=\"width: 45%; float: left;\">\n",
    "            <img src=\"average_customer_rating.png\" alt=\"fig 3\">\n",
    "            <img src=\"weight_distribution.png\" alt=\"Fig 4\">\n",
    "        </div>\n",
    "    </body>\n",
    "</html>"
   ]
  }
 ],
 "metadata": {
  "kernelspec": {
   "display_name": ".venv",
   "language": "python",
   "name": "python3"
  },
  "language_info": {
   "codemirror_mode": {
    "name": "ipython",
    "version": 3
   },
   "file_extension": ".py",
   "mimetype": "text/x-python",
   "name": "python",
   "nbconvert_exporter": "python",
   "pygments_lexer": "ipython3",
   "version": "3.9.0"
  }
 },
 "nbformat": 4,
 "nbformat_minor": 5
}
